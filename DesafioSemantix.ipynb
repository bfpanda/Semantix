{
 "cells": [
  {
   "cell_type": "code",
   "execution_count": 1,
   "metadata": {},
   "outputs": [],
   "source": [
    "from pyspark import SparkConf, SparkContext\n",
    "from operator import add"
   ]
  },
  {
   "cell_type": "code",
   "execution_count": 2,
   "metadata": {},
   "outputs": [],
   "source": [
    "conf = (SparkConf()\n",
    "         .setMaster(\"local\")\n",
    "         .setAppName(\"Semantix\")\n",
    "         .set(\"spark.executor.memory\", \"2g\"))\n",
    "sc = SparkContext(conf = conf)\n",
    "\n",
    "\n",
    "julho = sc.textFile('access_log_Jul95')\n",
    "julho = julho.cache()\n",
    "\n",
    "agosto = sc.textFile('access_log_Aug95')\n",
    "agosto = agosto.cache()"
   ]
  },
  {
   "cell_type": "markdown",
   "metadata": {},
   "source": [
    "Numero de host's unicos"
   ]
  },
  {
   "cell_type": "code",
   "execution_count": null,
   "metadata": {},
   "outputs": [],
   "source": [
    "julhoCount = julho.flatMap(lambda line: line.split(' ')[0]).distinct().count()\n",
    "agostoCount = agosto.flatMap(lambda line: line.split(' ')[0]).distinct().count()\n",
    "print('Hosts unicos em Julho: %s' % julhoCount)\n",
    "print('Hosts unicos em Agosto %s' % agostoCount)"
   ]
  },
  {
   "cell_type": "markdown",
   "metadata": {},
   "source": [
    "Total de erros 404"
   ]
  },
  {
   "cell_type": "code",
   "execution_count": null,
   "metadata": {},
   "outputs": [],
   "source": [
    "def total_error_404(line):\n",
    "    try:\n",
    "        code = line.split(' ')[-2]\n",
    "        if code == '404':\n",
    "            return True\n",
    "    except:\n",
    "        pass\n",
    "    return False\n",
    "    \n",
    "julho_404 = julho.filter(total_error_404).cache()\n",
    "agosto_404 = agosto.filter(lambda line: line.split(' ')[-2] == '404').cache()\n",
    "\n",
    "print('Total de erros em Julho: %s' % julho_404.count())\n",
    "print('Total de erros em Agosto %s' % agosto_404.count())"
   ]
  },
  {
   "cell_type": "markdown",
   "metadata": {},
   "source": [
    "Os 5 URLs que mais causaram erro 404"
   ]
  },
  {
   "cell_type": "code",
   "execution_count": null,
   "metadata": {},
   "outputs": [],
   "source": [
    "def erro404top5(rdd):\n",
    "    erros404 = rdd.map(lambda line: line.split('\"')[1].split(' ')[1])\n",
    "    count_404 = erros404.map(lambda erro404: (erro404, 1)).reduceByKey(add)\n",
    "    top = count_404.sortBy(lambda pair: -pair[1]).take(5)\n",
    "    \n",
    "    print('\\nTop 5 dos erros 404 mais frequentes: ')\n",
    "    for erro404, count in top:\n",
    "        print(erro404, count)\n",
    "        \n",
    "    return top\n",
    "\n",
    "erro404top5(julho_404)\n",
    "erro404top5(agosto_404)"
   ]
  },
  {
   "cell_type": "markdown",
   "metadata": {},
   "source": [
    "Quantidade de erros 404 por dia"
   ]
  },
  {
   "cell_type": "code",
   "execution_count": null,
   "metadata": {},
   "outputs": [],
   "source": [
    "def count_diario(rdd):\n",
    "    dias = rdd.map(lambda line: line.split('[')[1].split(':')[0])\n",
    "    count_dia = dias.map(lambda dia: (dia, 1)).reduceByKey(add).collect()\n",
    "    \n",
    "    print('\\nErros 404 por dia: ')\n",
    "    for dia, count in count_dia:\n",
    "        print(dia, count)\n",
    "        \n",
    "    return count_dia\n",
    "\n",
    "count_diario(julho_404)\n",
    "count_diario(agosto_404)"
   ]
  },
  {
   "cell_type": "markdown",
   "metadata": {},
   "source": [
    "O total de bytes retornados."
   ]
  },
  {
   "cell_type": "code",
   "execution_count": null,
   "metadata": {},
   "outputs": [],
   "source": [
    "def count_dados_acumulados(rdd):\n",
    "    def byte_count(line):\n",
    "        try:\n",
    "            count = int(line.split(\" \")[-1])\n",
    "            if count < 0:\n",
    "                raise ValueError()\n",
    "            return count\n",
    "        except:\n",
    "            return 0\n",
    "        \n",
    "    count = rdd.map(byte_count).reduce(add)\n",
    "    return count\n",
    "\n",
    "print('O total de bytes retornados em Julho: %s' % count_dados_acumulados(julho))\n",
    "print('O total de bytes retornados em Agosto: %s' % count_dados_acumulados(agosto))"
   ]
  },
  {
   "cell_type": "code",
   "execution_count": null,
   "metadata": {},
   "outputs": [],
   "source": [
    "sc.stop()"
   ]
  }
 ],
 "metadata": {
  "kernelspec": {
   "display_name": "Python 3",
   "language": "python",
   "name": "python3"
  },
  "language_info": {
   "codemirror_mode": {
    "name": "ipython",
    "version": 3
   },
   "file_extension": ".py",
   "mimetype": "text/x-python",
   "name": "python",
   "nbconvert_exporter": "python",
   "pygments_lexer": "ipython3",
   "version": "3.7.3"
  }
 },
 "nbformat": 4,
 "nbformat_minor": 2
}
